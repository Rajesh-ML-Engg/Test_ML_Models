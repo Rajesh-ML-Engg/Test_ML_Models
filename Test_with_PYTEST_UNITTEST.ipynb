{
 "cells": [
  {
   "cell_type": "code",
   "execution_count": 7,
   "metadata": {},
   "outputs": [],
   "source": [
    "import pytest\n",
    "import pandas as pd"
   ]
  },
  {
   "cell_type": "code",
   "execution_count": 3,
   "metadata": {},
   "outputs": [],
   "source": [
    "import unittest"
   ]
  },
  {
   "cell_type": "code",
   "execution_count": 2,
   "metadata": {},
   "outputs": [
    {
     "data": {
      "text/plain": [
       "['Class',\n",
       " 'Collector',\n",
       " 'ExitCode',\n",
       " 'File',\n",
       " 'FixtureLookupError',\n",
       " 'Function',\n",
       " 'Instance',\n",
       " 'Item',\n",
       " 'Module',\n",
       " 'Package',\n",
       " 'PytestAssertRewriteWarning',\n",
       " 'PytestCacheWarning',\n",
       " 'PytestCollectionWarning',\n",
       " 'PytestConfigWarning',\n",
       " 'PytestDeprecationWarning',\n",
       " 'PytestExperimentalApiWarning',\n",
       " 'PytestUnhandledCoroutineWarning',\n",
       " 'PytestUnknownMarkWarning',\n",
       " 'PytestWarning',\n",
       " 'Session',\n",
       " 'UsageError',\n",
       " '__all__',\n",
       " '__builtins__',\n",
       " '__cached__',\n",
       " '__doc__',\n",
       " '__file__',\n",
       " '__loader__',\n",
       " '__name__',\n",
       " '__package__',\n",
       " '__path__',\n",
       " '__pytestPDB',\n",
       " '__spec__',\n",
       " '__version__',\n",
       " '_fillfuncargs',\n",
       " 'approx',\n",
       " 'cmdline',\n",
       " 'collect',\n",
       " 'console_main',\n",
       " 'deprecated_call',\n",
       " 'exit',\n",
       " 'fail',\n",
       " 'fixture',\n",
       " 'freeze_includes',\n",
       " 'hookimpl',\n",
       " 'hookspec',\n",
       " 'importorskip',\n",
       " 'main',\n",
       " 'mark',\n",
       " 'param',\n",
       " 'raises',\n",
       " 'register_assert_rewrite',\n",
       " 'set_trace',\n",
       " 'skip',\n",
       " 'warns',\n",
       " 'xfail',\n",
       " 'yield_fixture']"
      ]
     },
     "execution_count": 2,
     "metadata": {},
     "output_type": "execute_result"
    }
   ],
   "source": [
    "dir(pytest)"
   ]
  },
  {
   "cell_type": "code",
   "execution_count": 4,
   "metadata": {},
   "outputs": [
    {
     "data": {
      "text/plain": [
       "['BaseTestSuite',\n",
       " 'FunctionTestCase',\n",
       " 'SkipTest',\n",
       " 'TestCase',\n",
       " 'TestLoader',\n",
       " 'TestProgram',\n",
       " 'TestResult',\n",
       " 'TestSuite',\n",
       " 'TextTestResult',\n",
       " 'TextTestRunner',\n",
       " '_TextTestResult',\n",
       " '__all__',\n",
       " '__builtins__',\n",
       " '__cached__',\n",
       " '__doc__',\n",
       " '__file__',\n",
       " '__loader__',\n",
       " '__name__',\n",
       " '__package__',\n",
       " '__path__',\n",
       " '__spec__',\n",
       " '__unittest',\n",
       " 'case',\n",
       " 'defaultTestLoader',\n",
       " 'expectedFailure',\n",
       " 'findTestCases',\n",
       " 'getTestCaseNames',\n",
       " 'installHandler',\n",
       " 'load_tests',\n",
       " 'loader',\n",
       " 'main',\n",
       " 'makeSuite',\n",
       " 'registerResult',\n",
       " 'removeHandler',\n",
       " 'removeResult',\n",
       " 'result',\n",
       " 'runner',\n",
       " 'signals',\n",
       " 'skip',\n",
       " 'skipIf',\n",
       " 'skipUnless',\n",
       " 'suite',\n",
       " 'util']"
      ]
     },
     "execution_count": 4,
     "metadata": {},
     "output_type": "execute_result"
    }
   ],
   "source": [
    "dir(unittest)"
   ]
  },
  {
   "cell_type": "code",
   "execution_count": 5,
   "metadata": {},
   "outputs": [],
   "source": [
    "from unittest import mock"
   ]
  },
  {
   "cell_type": "code",
   "execution_count": 8,
   "metadata": {},
   "outputs": [
    {
     "data": {
      "text/plain": [
       "['__all__',\n",
       " '__builtins__',\n",
       " '__cached__',\n",
       " '__doc__',\n",
       " '__file__',\n",
       " '__loader__',\n",
       " '__name__',\n",
       " '__package__',\n",
       " '__spec__',\n",
       " 'assert_extension_array_equal',\n",
       " 'assert_frame_equal',\n",
       " 'assert_index_equal',\n",
       " 'assert_series_equal']"
      ]
     },
     "execution_count": 8,
     "metadata": {},
     "output_type": "execute_result"
    }
   ],
   "source": [
    "dir(pd.testing)"
   ]
  },
  {
   "cell_type": "code",
   "execution_count": 9,
   "metadata": {},
   "outputs": [],
   "source": [
    "def sub(a,b):\n",
    "    return a-b"
   ]
  },
  {
   "cell_type": "code",
   "execution_count": 12,
   "metadata": {},
   "outputs": [],
   "source": [
    "def smart_sub(func):\n",
    "    def inner(num1,num2):\n",
    "        if num1 < num2:\n",
    "            num1, num2 = num2, num1\n",
    "        return num1 - num2\n",
    "    return inner"
   ]
  },
  {
   "cell_type": "code",
   "execution_count": 13,
   "metadata": {},
   "outputs": [
    {
     "data": {
      "text/plain": [
       "-2"
      ]
     },
     "execution_count": 13,
     "metadata": {},
     "output_type": "execute_result"
    }
   ],
   "source": [
    "sub(2,4)"
   ]
  },
  {
   "cell_type": "code",
   "execution_count": 14,
   "metadata": {},
   "outputs": [
    {
     "data": {
      "text/plain": [
       "2"
      ]
     },
     "execution_count": 14,
     "metadata": {},
     "output_type": "execute_result"
    }
   ],
   "source": [
    "sub(5,3)"
   ]
  },
  {
   "cell_type": "code",
   "execution_count": 15,
   "metadata": {},
   "outputs": [],
   "source": [
    "new_sub = smart_sub(sub)"
   ]
  },
  {
   "cell_type": "code",
   "execution_count": 16,
   "metadata": {},
   "outputs": [
    {
     "data": {
      "text/plain": [
       "2"
      ]
     },
     "execution_count": 16,
     "metadata": {},
     "output_type": "execute_result"
    }
   ],
   "source": [
    "new_sub(2,4)"
   ]
  },
  {
   "cell_type": "code",
   "execution_count": 17,
   "metadata": {},
   "outputs": [
    {
     "data": {
      "text/plain": [
       "4"
      ]
     },
     "execution_count": 17,
     "metadata": {},
     "output_type": "execute_result"
    }
   ],
   "source": [
    "new_sub(8,4)"
   ]
  },
  {
   "cell_type": "code",
   "execution_count": 18,
   "metadata": {},
   "outputs": [
    {
     "data": {
      "text/plain": [
       "1"
      ]
     },
     "execution_count": 18,
     "metadata": {},
     "output_type": "execute_result"
    }
   ],
   "source": [
    "new_sub(8,9)"
   ]
  }
 ],
 "metadata": {
  "kernelspec": {
   "display_name": "Python 3",
   "language": "python",
   "name": "python3"
  },
  "language_info": {
   "codemirror_mode": {
    "name": "ipython",
    "version": 3
   },
   "file_extension": ".py",
   "mimetype": "text/x-python",
   "name": "python",
   "nbconvert_exporter": "python",
   "pygments_lexer": "ipython3",
   "version": "3.6.8"
  }
 },
 "nbformat": 4,
 "nbformat_minor": 4
}
